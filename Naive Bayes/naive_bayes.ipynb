{
 "cells": [
  {
   "cell_type": "code",
   "execution_count": 5,
   "metadata": {},
   "outputs": [
    {
     "name": "stdout",
     "output_type": "stream",
     "text": [
      "   price lug_boot safety target\n",
      "0    low      med    med    асс\n",
      "1   high      big   high    асс\n",
      "2    med      big   high    асс\n",
      "3    med      med   high    асс\n",
      "4    med      med    med    асс\n",
      "5    low      big    med    асс\n",
      "6    med      big    med    асс\n",
      "7    low    small   high    асс\n",
      "8   high      big    med    асс\n",
      "9    low    small    med    асс\n",
      "10   low    small    med  unacc\n",
      "11   med      big    med  unacc\n",
      "12   low      med    med  unacc\n",
      "13  high    small    med  unacc\n",
      "14   med      big    low  unacc\n",
      "15   med      med    med  unacc\n",
      "16  high      med    med  unacc\n",
      "17   low      med    low  unacc\n",
      "18   med    small    med  unacc\n",
      "19   med    small   high  unacc\n",
      "20   med      med    low  unacc\n",
      "21   med      big   high  unacc\n",
      "22  high      big    med  unacc\n",
      "23  high    small   high  unacc\n",
      "24   low      big   high  unacc\n"
     ]
    }
   ],
   "source": [
    "import pandas as pd\n",
    "\n",
    "t_data = pd.read_csv('data.csv', header=0, sep=',', names=[\"price\", \"lug_boot\", \"safety\", \"target\"])\n",
    "\n",
    "print(t_data)\n",
    "\n"
   ]
  },
  {
   "cell_type": "code",
   "execution_count": 79,
   "metadata": {},
   "outputs": [],
   "source": [
    "def prob(input, col: pd.DataFrame):\n",
    "    new_col = col.drop(col[col != input].index)\n",
    "    prob = new_col.size/col.size\n",
    "    return prob\n",
    "    \n",
    "\n",
    "def prob_2(input, target, t_col:pd.DataFrame, i_col:pd.DataFrame):\n",
    "    new_dt = pd.concat([i_col, t_col], axis=1)\n",
    "    new_dt.drop(new_dt[new_dt.iloc[:, 0] != input].index, inplace=True)\n",
    "    prob = len(new_dt)/len(t_col)\n",
    "    return prob\n",
    "    \n",
    "def naive_bayes(entry, data:pd.DataFrame):\n",
    "    atributes = data.columns\n",
    "    target_col = data[atributes[-1]]\n",
    "    p_vector = {}\n",
    "    for value in target_col.unique():\n",
    "        p_value = prob(value, target_col)\n",
    "        for i, x_entry in enumerate(entry):\n",
    "            p_value = p_value * prob_2(x_entry, value, target_col, data[atributes[i]])\n",
    "        p_vector[value] = p_value\n",
    "    max_prob = max(p_vector, key=p_vector.get)\n",
    "    return max_prob, p_vector"
   ]
  },
  {
   "cell_type": "code",
   "execution_count": 85,
   "metadata": {},
   "outputs": [
    {
     "name": "stdout",
     "output_type": "stream",
     "text": [
      "Result = unacc \n",
      "Given the entry [\"med\", \"med\", \"high\"] the most probable target is unacc with a probability of 0.0270336\n"
     ]
    }
   ],
   "source": [
    "max_prob, prob_vector = naive_bayes([\"med\", \"med\", \"high\"], t_data)\n",
    "print(f\"Result = {max_prob} \\nGiven the entry [\\\"med\\\", \\\"med\\\", \\\"high\\\"] the most probable target is {max_prob} with a probability of {prob_vector[max_prob]}\")"
   ]
  },
  {
   "cell_type": "code",
   "execution_count": null,
   "metadata": {},
   "outputs": [],
   "source": [
    "\n",
    "\n",
    "\n"
   ]
  }
 ],
 "metadata": {
  "kernelspec": {
   "display_name": "Python 3",
   "language": "python",
   "name": "python3"
  },
  "language_info": {
   "codemirror_mode": {
    "name": "ipython",
    "version": 3
   },
   "file_extension": ".py",
   "mimetype": "text/x-python",
   "name": "python",
   "nbconvert_exporter": "python",
   "pygments_lexer": "ipython3",
   "version": "3.11.4"
  }
 },
 "nbformat": 4,
 "nbformat_minor": 2
}
