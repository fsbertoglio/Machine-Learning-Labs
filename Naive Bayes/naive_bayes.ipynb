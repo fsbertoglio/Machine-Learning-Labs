{
 "cells": [
  {
   "cell_type": "code",
   "execution_count": 61,
   "metadata": {},
   "outputs": [
    {
     "name": "stdout",
     "output_type": "stream",
     "text": [
      "   price lug_boot safety target\n",
      "0    low      med    med    асс\n",
      "1   high      big   high    асс\n",
      "2    med      big   high    асс\n",
      "3    med      med   high    асс\n",
      "4    med      med    med    асс\n",
      "5    low      big    med    асс\n",
      "6    med      big    med    асс\n",
      "7    low    small   high    асс\n",
      "8   high      big    med    асс\n",
      "9    low    small    med    асс\n",
      "10   low    small    med  unacc\n",
      "11   med      big    med  unacc\n",
      "12   low      med    med  unacc\n",
      "13  high    small    med  unacc\n",
      "14   med      big    low  unacc\n",
      "15   med      med    med  unacc\n",
      "16  high      med    med  unacc\n",
      "17   low      med    low  unacc\n",
      "18   med    small    med  unacc\n",
      "19   med    small   high  unacc\n",
      "20   med      med    low  unacc\n",
      "21   med      big   high  unacc\n",
      "22  high      big    med  unacc\n",
      "23  high    small   high  unacc\n",
      "24   low      big   high  unacc\n"
     ]
    }
   ],
   "source": [
    "import pandas as pd\n",
    "\n",
    "t_data = pd.read_csv('data.csv', header=0, sep=',', names=[\"price\", \"lug_boot\", \"safety\", \"target\"])\n",
    "\n",
    "print(t_data)\n",
    "\n"
   ]
  },
  {
   "cell_type": "code",
   "execution_count": 62,
   "metadata": {},
   "outputs": [],
   "source": [
    "def naive_bayes(entry, data):\n",
    "    atributes = data.columns\n",
    "\n",
    "    #criar dicionário de variáveis para cada coluna\n",
    "    variables_count = {}\n",
    "    for i, atribute in enumerate(atributes):\n",
    "        list = []\n",
    "        for j, value in enumerate(data[atribute].unique()):\n",
    "            list.append([value, data[atribute].value_counts()[j]])\n",
    "        variables_count[atribute] = list\n",
    "    \n",
    "    variables_prob = {}\n",
    "    for i, atribute in enumerate(atributes):\n",
    "        list = []\n",
    "        for j, value in enumerate(data[atribute].unique()):\n",
    "            list.append([value, data[atribute].value_counts()[j]/len(data[atribute])])\n",
    "        variables_prob[atribute] = list\n",
    "    \n",
    "    print(f\"vetor de contagem: {variables_count}\")\n",
    "    print(f\"vetor de probabilidade: {variables_prob}\")\n",
    "\n",
    "    \n",
    "\n",
    "naive_bayes(t_data, t_data)\n"
   ]
  },
  {
   "cell_type": "code",
   "execution_count": 63,
   "metadata": {},
   "outputs": [
    {
     "name": "stdout",
     "output_type": "stream",
     "text": [
      "vetor de contagem: {'price': [['low', 11], ['high', 8], ['med', 6]], 'lug_boot': [['med', 10], ['big', 8], ['small', 7]], 'safety': [['med', 14], ['high', 8], ['low', 3]], 'target': [['асс', 15], ['unacc', 10]]}\n",
      "vetor de probabilidade: {'price': [['low', 0.44], ['high', 0.32], ['med', 0.24]], 'lug_boot': [['med', 0.4], ['big', 0.32], ['small', 0.28]], 'safety': [['med', 0.56], ['high', 0.32], ['low', 0.12]], 'target': [['асс', 0.6], ['unacc', 0.4]]}\n"
     ]
    }
   ],
   "source": [
    "\n",
    "\n",
    "\n"
   ]
  }
 ],
 "metadata": {
  "kernelspec": {
   "display_name": "Python 3",
   "language": "python",
   "name": "python3"
  },
  "language_info": {
   "codemirror_mode": {
    "name": "ipython",
    "version": 3
   },
   "file_extension": ".py",
   "mimetype": "text/x-python",
   "name": "python",
   "nbconvert_exporter": "python",
   "pygments_lexer": "ipython3",
   "version": "3.11.2"
  }
 },
 "nbformat": 4,
 "nbformat_minor": 2
}
