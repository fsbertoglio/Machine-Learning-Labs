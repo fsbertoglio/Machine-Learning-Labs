{
 "cells": [
  {
   "cell_type": "markdown",
   "metadata": {},
   "source": [
    "This dataset provides a comprehensive overview of behavioral classes among Brazilian adolescents. It encompasses crucial information across various domains, including physical activity levels, sedentary behavior, common mental disorders, and lifestyle habits such as sleep duration and alcohol consumption. The dataset serves as a valuable resource for understanding and analyzing the intricate interplay between these factors, offering insights into the behavioral patterns and health outcomes of this demographic group."
   ]
  },
  {
   "cell_type": "code",
   "execution_count": 15,
   "metadata": {},
   "outputs": [
    {
     "name": "stdout",
     "output_type": "stream",
     "text": [
      "The data has 217 rows and 23 columns, the columns are: \n",
      "\n"
     ]
    },
    {
     "data": {
      "text/html": [
       "<div>\n",
       "<style scoped>\n",
       "    .dataframe tbody tr th:only-of-type {\n",
       "        vertical-align: middle;\n",
       "    }\n",
       "\n",
       "    .dataframe tbody tr th {\n",
       "        vertical-align: top;\n",
       "    }\n",
       "\n",
       "    .dataframe thead th {\n",
       "        text-align: right;\n",
       "    }\n",
       "</style>\n",
       "<table border=\"1\" class=\"dataframe\">\n",
       "  <thead>\n",
       "    <tr style=\"text-align: right;\">\n",
       "      <th></th>\n",
       "      <th>Column name</th>\n",
       "      <th>Definition</th>\n",
       "    </tr>\n",
       "  </thead>\n",
       "  <tbody>\n",
       "    <tr>\n",
       "      <th>0</th>\n",
       "      <td>IC</td>\n",
       "      <td>Identification code</td>\n",
       "    </tr>\n",
       "    <tr>\n",
       "      <th>1</th>\n",
       "      <td>Sex</td>\n",
       "      <td>Sex (1 - boys; 2 - girls)</td>\n",
       "    </tr>\n",
       "    <tr>\n",
       "      <th>2</th>\n",
       "      <td>Age</td>\n",
       "      <td>Age in years</td>\n",
       "    </tr>\n",
       "    <tr>\n",
       "      <th>3</th>\n",
       "      <td>Grade</td>\n",
       "      <td>High school grades (1 - 10; 2 - 11; 3 - 12)</td>\n",
       "    </tr>\n",
       "    <tr>\n",
       "      <th>4</th>\n",
       "      <td>Class_SES</td>\n",
       "      <td>Socioeconomic status classification (1 - wealt...</td>\n",
       "    </tr>\n",
       "    <tr>\n",
       "      <th>5</th>\n",
       "      <td>LPA/day(min)</td>\n",
       "      <td>Light physical activity per day (min)</td>\n",
       "    </tr>\n",
       "    <tr>\n",
       "      <th>6</th>\n",
       "      <td>MVPA/day(min)</td>\n",
       "      <td>Moderate-to-vigorous physical activity per day...</td>\n",
       "    </tr>\n",
       "    <tr>\n",
       "      <th>7</th>\n",
       "      <td>Steps/day</td>\n",
       "      <td>Number of steps per day</td>\n",
       "    </tr>\n",
       "    <tr>\n",
       "      <th>8</th>\n",
       "      <td>SB/day(min)</td>\n",
       "      <td>Sedentary behavior per day (min)</td>\n",
       "    </tr>\n",
       "    <tr>\n",
       "      <th>9</th>\n",
       "      <td>ST</td>\n",
       "      <td>Screen time per day (hours)</td>\n",
       "    </tr>\n",
       "    <tr>\n",
       "      <th>10</th>\n",
       "      <td>SD</td>\n",
       "      <td>Sleep duration (h:min)</td>\n",
       "    </tr>\n",
       "    <tr>\n",
       "      <th>11</th>\n",
       "      <td>Weight (kg)</td>\n",
       "      <td>Body weight (kg)</td>\n",
       "    </tr>\n",
       "    <tr>\n",
       "      <th>12</th>\n",
       "      <td>Height (m)</td>\n",
       "      <td>Height (m)</td>\n",
       "    </tr>\n",
       "    <tr>\n",
       "      <th>13</th>\n",
       "      <td>BMI</td>\n",
       "      <td>Body mass index (kg.m-2)</td>\n",
       "    </tr>\n",
       "    <tr>\n",
       "      <th>14</th>\n",
       "      <td>SBP</td>\n",
       "      <td>Systolic blood pressure (mmHg)</td>\n",
       "    </tr>\n",
       "    <tr>\n",
       "      <th>15</th>\n",
       "      <td>DBP</td>\n",
       "      <td>Diastolic blood pressure (mmHg)</td>\n",
       "    </tr>\n",
       "    <tr>\n",
       "      <th>16</th>\n",
       "      <td>WC</td>\n",
       "      <td>Waist circumference (cm)</td>\n",
       "    </tr>\n",
       "    <tr>\n",
       "      <th>17</th>\n",
       "      <td>HW</td>\n",
       "      <td>Hip circumference  (cm)</td>\n",
       "    </tr>\n",
       "    <tr>\n",
       "      <th>18</th>\n",
       "      <td>WHtR</td>\n",
       "      <td>Waist-to-height ratio</td>\n",
       "    </tr>\n",
       "    <tr>\n",
       "      <th>19</th>\n",
       "      <td>Alcohol</td>\n",
       "      <td>Alcohol use (1 - no; 2 - yes)</td>\n",
       "    </tr>\n",
       "    <tr>\n",
       "      <th>20</th>\n",
       "      <td>Tobacco</td>\n",
       "      <td>Tobacco use (1 - no; 2 - yes)</td>\n",
       "    </tr>\n",
       "    <tr>\n",
       "      <th>21</th>\n",
       "      <td>CMD</td>\n",
       "      <td>Common mental disorder score</td>\n",
       "    </tr>\n",
       "    <tr>\n",
       "      <th>22</th>\n",
       "      <td>LCA</td>\n",
       "      <td>Latent classes</td>\n",
       "    </tr>\n",
       "  </tbody>\n",
       "</table>\n",
       "</div>"
      ],
      "text/plain": [
       "      Column name                                         Definition\n",
       "0              IC                                Identification code\n",
       "1             Sex                          Sex (1 - boys; 2 - girls)\n",
       "2             Age                                       Age in years\n",
       "3           Grade        High school grades (1 - 10; 2 - 11; 3 - 12)\n",
       "4       Class_SES  Socioeconomic status classification (1 - wealt...\n",
       "5    LPA/day(min)              Light physical activity per day (min)\n",
       "6   MVPA/day(min)  Moderate-to-vigorous physical activity per day...\n",
       "7       Steps/day                            Number of steps per day\n",
       "8     SB/day(min)                   Sedentary behavior per day (min)\n",
       "9              ST                        Screen time per day (hours)\n",
       "10             SD                             Sleep duration (h:min)\n",
       "11    Weight (kg)                                   Body weight (kg)\n",
       "12     Height (m)                                         Height (m)\n",
       "13            BMI                           Body mass index (kg.m-2)\n",
       "14            SBP                     Systolic blood pressure (mmHg)\n",
       "15            DBP                    Diastolic blood pressure (mmHg)\n",
       "16             WC                           Waist circumference (cm)\n",
       "17             HW                            Hip circumference  (cm)\n",
       "18           WHtR                              Waist-to-height ratio\n",
       "19        Alcohol                      Alcohol use (1 - no; 2 - yes)\n",
       "20        Tobacco                      Tobacco use (1 - no; 2 - yes)\n",
       "21            CMD                       Common mental disorder score\n",
       "22            LCA                                     Latent classes"
      ]
     },
     "execution_count": 15,
     "metadata": {},
     "output_type": "execute_result"
    }
   ],
   "source": [
    "import pandas as pd\n",
    "import numpy as np\n",
    "import matplotlib.pyplot as plt\n",
    "\n",
    "DATA_PATH = './adolescent_behavioral_classes.xlsx'\n",
    "\n",
    "data = pd.read_excel(DATA_PATH)\n",
    "data.drop_duplicates(inplace=True)\n",
    "\n",
    "definition = pd.read_excel(DATA_PATH, sheet_name='Definition')\n",
    "\n",
    "print(f\"The data has {data.shape[0]} rows and {data.shape[1]} columns, the columns are: \\n\")\n",
    "\n",
    "definition"
   ]
  },
  {
   "cell_type": "code",
   "execution_count": 20,
   "metadata": {},
   "outputs": [
    {
     "name": "stdout",
     "output_type": "stream",
     "text": [
      "The data have the following format:\n"
     ]
    },
    {
     "data": {
      "text/plain": [
       "array([16, 18, 17, 15], dtype=int64)"
      ]
     },
     "execution_count": 20,
     "metadata": {},
     "output_type": "execute_result"
    }
   ],
   "source": [
    "print(f\"The data have the following format:\")\n",
    "data.head()"
   ]
  },
  {
   "cell_type": "markdown",
   "metadata": {},
   "source": [
    "Organize the data"
   ]
  },
  {
   "cell_type": "code",
   "execution_count": 23,
   "metadata": {},
   "outputs": [],
   "source": [
    "#pip install scikit-learn\n",
    "import sklearn.preprocessing as preprocessing\n",
    "import sklearn.model_selection as model_selection\n",
    "import sklearn.metrics as metrics\n",
    "\n",
    "\n"
   ]
  }
 ],
 "metadata": {
  "kernelspec": {
   "display_name": "Python 3",
   "language": "python",
   "name": "python3"
  },
  "language_info": {
   "codemirror_mode": {
    "name": "ipython",
    "version": 3
   },
   "file_extension": ".py",
   "mimetype": "text/x-python",
   "name": "python",
   "nbconvert_exporter": "python",
   "pygments_lexer": "ipython3",
   "version": "3.11.2"
  }
 },
 "nbformat": 4,
 "nbformat_minor": 2
}
