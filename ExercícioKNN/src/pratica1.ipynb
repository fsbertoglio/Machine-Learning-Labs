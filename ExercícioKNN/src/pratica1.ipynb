{
 "cells": [
  {
   "cell_type": "code",
   "execution_count": 2,
   "metadata": {},
   "outputs": [],
   "source": [
    "\n",
    "TRAIN_2F_NORM = \"../Dados_Normalizados_2Features/TrainingData_2F_Norm.txt\"\n",
    "TEST_2F_NORM = \"../Dados_Normalizados_2Features/TestingData_2F_Norm.txt\"\n",
    "\n",
    "TRAIN_11F_NORM = \"../Dados_Normalizados_11Features/TrainingData_11F_Norm.txt\"\n",
    "TEST_11F_NORM = \"../Dados_Normalizados_11Features/TestingData_11F_Norm.txt\"\n",
    "\n",
    "TRAIN_2F_ORI = \"../Dados_Originais_2Features/TrainingData_2F_Original.txt\"\n",
    "TEST_2F_ORI = \"../Dados_Originais_2Features/TestingData_2F_Original.txt\"\n",
    "\n",
    "TRAIN_11F_ORI = \"../Dados_Originais_11Features/TrainingData_11F_Original.txt\"\n",
    "TEST_11F_ORI = \"../Dados_Originais_11Features/TestingData_11F_Original.txt\""
   ]
  },
  {
   "cell_type": "code",
   "execution_count": 3,
   "metadata": {},
   "outputs": [],
   "source": [
    "import numpy as np\n",
    "from sklearn.neighbors import KNeighborsClassifier"
   ]
  },
  {
   "cell_type": "code",
   "execution_count": 4,
   "metadata": {},
   "outputs": [
    {
     "name": "stdout",
     "output_type": "stream",
     "text": [
      "DADOS ORIGINAIS: 2 FEATURES\n",
      " Accuracy for k = 1: 0.75\n",
      " Accuracy for k = 3: 0.5\n",
      " Accuracy for k = 5: 0.25\n",
      " Accuracy for k = 7: 0.25\n"
     ]
    }
   ],
   "source": [
    "print(\"DADOS ORIGINAIS: 2 FEATURES\")\n",
    "\n",
    "# Load the data from file\n",
    "training_data = np.genfromtxt(TRAIN_2F_ORI, delimiter='\\t', skip_header=1, usecols=(0,1,2,3))\n",
    "test_data = np.genfromtxt(TEST_2F_ORI, delimiter='\\t', skip_header=1, usecols=(0,1,2,3))\n",
    "\n",
    "# Split the data into X and Y\n",
    "X_train = training_data[:, 1:-1]\n",
    "Y_train = training_data[:, -1]\n",
    "\n",
    "X_test = test_data[:, 1:-1]\n",
    "Y_test = test_data[:, -1]\n",
    "\n",
    "for k in range(1, 8, 2):    \n",
    "    # Create the KNN classifier\n",
    "    knn = KNeighborsClassifier(n_neighbors=k)\n",
    "\n",
    "    # Fit the classifier to the data\n",
    "    knn.fit(X_train, Y_train)\n",
    "\n",
    "    # print(f\" Output : {knn.predict(X_test)}\")\n",
    "    # print(f\" Expected : {Y_test}\")\n",
    "    print(f\" Accuracy for k = {k}: {knn.score(X_test, Y_test)}\")\n",
    "\n",
    "    # for i in X_test:\n",
    "    #     kneighbors = knn.kneighbors([i], k, True)\n",
    "    #     print(kneighbors)"
   ]
  },
  {
   "cell_type": "code",
   "execution_count": 5,
   "metadata": {},
   "outputs": [
    {
     "name": "stdout",
     "output_type": "stream",
     "text": [
      "DADOS NORMALIZADOS: 2 FEATURES\n",
      " Accuracy for k = 1: 0.5\n",
      " Accuracy for k = 3: 0.25\n",
      " Accuracy for k = 5: 0.75\n",
      " Accuracy for k = 7: 1.0\n"
     ]
    }
   ],
   "source": [
    "# Load the data from file\n",
    "training_data = np.genfromtxt(TRAIN_2F_NORM, delimiter='\\t', skip_header=1, usecols=(0,1,2,3))\n",
    "test_data = np.genfromtxt(TEST_2F_NORM, delimiter='\\t', skip_header=1, usecols=(0,1,2,3))\n",
    "\n",
    "# Split the data into X and Y\n",
    "X_train = training_data[:, 1:-1]\n",
    "Y_train = training_data[:, -1]\n",
    "\n",
    "X_test = test_data[:, 1:-1]\n",
    "Y_test = test_data[:, -1]    \n",
    "\n",
    "print(\"DADOS NORMALIZADOS: 2 FEATURES\")\n",
    "for k in range(1, 8, 2):    \n",
    "    # Create the KNN classifier\n",
    "    knn = KNeighborsClassifier(n_neighbors=k)\n",
    "\n",
    "    # Fit the classifier to the data\n",
    "    knn.fit(X_train, Y_train)\n",
    "\n",
    "    # print(f\" Output : {knn.predict(X_test)}\")\n",
    "    # print(f\" Expected : {Y_test}\")\n",
    "    print(f\" Accuracy for k = {k}: {knn.score(X_test, Y_test)}\")\n",
    "\n",
    "    # for i in X_test:\n",
    "    #     kneighbors = knn.kneighbors([i], k, True)\n",
    "    #     print(kneighbors)\n"
   ]
  }
 ],
 "metadata": {
  "kernelspec": {
   "display_name": "Python 3",
   "language": "python",
   "name": "python3"
  },
  "language_info": {
   "codemirror_mode": {
    "name": "ipython",
    "version": 3
   },
   "file_extension": ".py",
   "mimetype": "text/x-python",
   "name": "python",
   "nbconvert_exporter": "python",
   "pygments_lexer": "ipython3",
   "version": "3.11.4"
  }
 },
 "nbformat": 4,
 "nbformat_minor": 2
}
