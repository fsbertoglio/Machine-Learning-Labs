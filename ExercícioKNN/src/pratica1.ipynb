{
 "cells": [
  {
   "cell_type": "markdown",
   "metadata": {},
   "source": [
    "# Atividade prática: Algoritmo k-Nearest Neighbors (KNN)\n",
    "\n",
    "Objetivo da atividade:\n",
    "* Compreender o processo de classificação através do algoritmo KNN\n",
    "* Analisar o efeito de aspectos como normalização de dados e dimensão do\n",
    "vetor de atributos sobre a saída prevista pelo classificador\n"
   ]
  },
  {
   "cell_type": "code",
   "execution_count": 133,
   "metadata": {},
   "outputs": [],
   "source": [
    "# Dataset paths \n",
    "TRAIN_2F_NORM = \"../Dados_Normalizados_2Features/TrainingData_2F_Norm.txt\"\n",
    "TEST_2F_NORM = \"../Dados_Normalizados_2Features/TestingData_2F_Norm.txt\"\n",
    "\n",
    "TRAIN_11F_NORM = \"../Dados_Normalizados_11Features/TrainingData_11F_Norm.txt\"\n",
    "TEST_11F_NORM = \"../Dados_Normalizados_11Features/TestingData_11F_Norm.txt\"\n",
    "\n",
    "TRAIN_2F_ORI = \"../Dados_Originais_2Features/TrainingData_2F_Original.txt\"\n",
    "TEST_2F_ORI = \"../Dados_Originais_2Features/TestingData_2F_Original.txt\"\n",
    "\n",
    "TRAIN_11F_ORI = \"../Dados_Originais_11Features/TrainingData_11F_Original.txt\"\n",
    "TEST_11F_ORI = \"../Dados_Originais_11Features/TestingData_11F_Original.txt\""
   ]
  },
  {
   "cell_type": "code",
   "execution_count": 134,
   "metadata": {},
   "outputs": [],
   "source": [
    "import numpy as np\n",
    "from sklearn.neighbors import KNeighborsClassifier\n",
    "import matplotlib.pyplot as plt\n",
    "\n",
    "K_NEIGHBORS = 5"
   ]
  },
  {
   "cell_type": "markdown",
   "metadata": {},
   "source": [
    "### Treinamento e avaliação dos dados originais com 2 features"
   ]
  },
  {
   "cell_type": "code",
   "execution_count": 135,
   "metadata": {},
   "outputs": [
    {
     "name": "stdout",
     "output_type": "stream",
     "text": [
      "DADOS NORMALIZADOS: 2 FEATURES\n",
      " Accuracy for k = 1: 0.75\n",
      " Accuracy for k = 3: 0.5\n",
      " Accuracy for k = 5: 0.25\n",
      " Accuracy for k = 7: 0.25\n"
     ]
    }
   ],
   "source": [
    "# Load the data from file\n",
    "training_data = np.genfromtxt(TRAIN_2F_ORI, delimiter='\\t', skip_header=1, usecols=(0,1,2,3))\n",
    "test_data = np.genfromtxt(TEST_2F_ORI, delimiter='\\t', skip_header=1, usecols=(0,1,2,3))\n",
    "\n",
    "# Split the data into X and Y\n",
    "X_train = training_data[:, 1:-1]\n",
    "Y_train = training_data[:, -1]\n",
    "\n",
    "X_test = test_data[:, 1:-1]\n",
    "Y_test = test_data[:, -1]    \n",
    "\n",
    "print(\"DADOS ORIGINAIS: 2 FEATURES\")\n",
    "for k in range(1, 8, 2):    \n",
    "    # Create the KNN classifier\n",
    "    knn = KNeighborsClassifier(n_neighbors=k)\n",
    "\n",
    "    # Fit the classifier to the data\n",
    "    knn.fit(X_train, Y_train)\n",
    "\n",
    "    print(f\" Accuracy for k = {k}: {knn.score(X_test, Y_test)}\")\n"
   ]
  },
  {
   "cell_type": "markdown",
   "metadata": {},
   "source": [
    "#### Encontrar os 5 vizinhos mais próximos"
   ]
  },
  {
   "cell_type": "code",
   "execution_count": 136,
   "metadata": {},
   "outputs": [
    {
     "name": "stdout",
     "output_type": "stream",
     "text": [
      "Point: N1\n",
      "Neighbor: T21 - Distance: 0.4\n",
      "Neighbor: T27 - Distance: 1.0\n",
      "Neighbor: T30 - Distance: 1.114\n",
      "Neighbor: T25 - Distance: 2.014\n",
      "Neighbor: T11 - Distance: 4.0\n",
      "Point: N2\n",
      "Neighbor: T10 - Distance: 1.059\n",
      "Neighbor: T37 - Distance: 2.001\n",
      "Neighbor: T4 - Distance: 5.508\n",
      "Neighbor: T36 - Distance: 6.003\n",
      "Neighbor: T31 - Distance: 9.0\n",
      "Point: N3\n",
      "Neighbor: T29 - Distance: 0.01\n",
      "Neighbor: T28 - Distance: 1.0\n",
      "Neighbor: T15 - Distance: 2.057\n",
      "Neighbor: T41 - Distance: 3.0\n",
      "Neighbor: T35 - Distance: 4.001\n",
      "Point: N4\n",
      "Neighbor: T9 - Distance: 1.085\n",
      "Neighbor: T26 - Distance: 2.011\n",
      "Neighbor: T16 - Distance: 2.088\n",
      "Neighbor: T11 - Distance: 2.106\n",
      "Neighbor: T25 - Distance: 4.024\n"
     ]
    }
   ],
   "source": [
    "# Discover the k closest neighbors\n",
    "\n",
    "for i, point in enumerate(X_test):\n",
    "    print(f\"Point: N{i+1}\")\n",
    "    distances, kneighbors = knn.kneighbors([point], K_NEIGHBORS, True)\n",
    "    for d, n in zip(distances[0], kneighbors[0]):\n",
    "        print(f\"Neighbor: T{n+1} - Distance: {d.round(3)}\")"
   ]
  },
  {
   "cell_type": "code",
   "execution_count": 137,
   "metadata": {},
   "outputs": [
    {
     "data": {
      "image/png": "[encoded data removed]",
      "text/plain": [
       "<Figure size 640x480 with 1 Axes>"
      ]
     },
     "metadata": {},
     "output_type": "display_data"
    }
   ],
   "source": [
    "plt.figure()\n",
    "plt.scatter(X_train[Y_train == 1, 0], X_train[Y_train == 1, 1], marker='o', color='blue')\n",
    "plt.scatter(X_train[Y_train == 0, 0], X_train[Y_train == 0, 1], marker='o', color='red')\n",
    "plt.scatter(X_test[Y_test == 1, 0], X_test[Y_test == 1, 1], marker='x', color='blue')\n",
    "plt.scatter(X_test[Y_test == 0, 0], X_test[Y_test == 0, 1], marker='x', color='red')\n",
    "\n",
    "# Add index of each point\n",
    "for i, txt in enumerate(range(1, len(X_train)+ 1)):\n",
    "    plt.text(X_train[i, 0] if i < len(X_train) else X_test[i - len(X_train), 0] + 0.01,\n",
    "             X_train[i, 1] if i < len(X_train) else X_test[i - len(X_train), 1] + 0.01,\n",
    "             txt, fontsize=8)\n",
    "\n",
    "plt.show()\n"
   ]
  },
  {
   "cell_type": "markdown",
   "metadata": {},
   "source": [
    "#### Atenção: Importante considerar que sem a normalização dos dados, as distâncias são desproporcionais, prejudicando a métrica euclidiana. O eixo X tem peso dominante."
   ]
  },
  {
   "cell_type": "markdown",
   "metadata": {},
   "source": [
    "### Treinamento e avaliação dos dados normalizados com 2 features"
   ]
  },
  {
   "cell_type": "code",
   "execution_count": 138,
   "metadata": {},
   "outputs": [
    {
     "name": "stdout",
     "output_type": "stream",
     "text": [
      "DADOS NORMALIZADOS: 2 FEATURES\n",
      " Accuracy for k = 1: 0.5\n",
      " Accuracy for k = 3: 0.16666666666666666\n",
      " Accuracy for k = 5: 0.5\n",
      " Accuracy for k = 7: 0.8333333333333334\n"
     ]
    }
   ],
   "source": [
    "# Load the data from file\n",
    "training_data = np.genfromtxt(TRAIN_2F_NORM, delimiter='\\t', skip_header=1, usecols=(0,1,2,3))\n",
    "test_data = np.genfromtxt(TEST_2F_NORM, delimiter='\\t', skip_header=1, usecols=(0,1,2,3))\n",
    "\n",
    "# Split the data into X and Y\n",
    "X_train = training_data[:, 1:-1]\n",
    "Y_train = training_data[:, -1]\n",
    "\n",
    "X_test = test_data[:, 1:-1]\n",
    "Y_test = test_data[:, -1]    \n",
    "\n",
    "print(\"DADOS NORMALIZADOS: 2 FEATURES\")\n",
    "for k in range(1, 8, 2):    \n",
    "    # Create the KNN classifier\n",
    "    knn = KNeighborsClassifier(n_neighbors=k)\n",
    "\n",
    "    # Fit the classifier to the data\n",
    "    knn.fit(X_train, Y_train)\n",
    "\n",
    "    print(f\" Accuracy for k = {k}: {knn.score(X_test, Y_test)}\")\n"
   ]
  },
  {
   "cell_type": "code",
   "execution_count": 139,
   "metadata": {},
   "outputs": [
    {
     "name": "stdout",
     "output_type": "stream",
     "text": [
      "Point: N1\n",
      "Neighbor: T27 - Distance: 0.017\n",
      "Neighbor: T11 - Distance: 0.042\n",
      "Neighbor: T40 - Distance: 0.11\n",
      "Neighbor: T15 - Distance: 0.122\n",
      "Neighbor: T16 - Distance: 0.134\n",
      "Point: N2\n",
      "Neighbor: T31 - Distance: 0.102\n",
      "Neighbor: T37 - Distance: 0.104\n",
      "Neighbor: T12 - Distance: 0.15\n",
      "Neighbor: T34 - Distance: 0.168\n",
      "Neighbor: T22 - Distance: 0.174\n",
      "Point: N3\n",
      "Neighbor: T29 - Distance: 0.014\n",
      "Neighbor: T28 - Distance: 0.03\n",
      "Neighbor: T41 - Distance: 0.077\n",
      "Neighbor: T30 - Distance: 0.096\n",
      "Neighbor: T35 - Distance: 0.121\n",
      "Point: N4\n",
      "Neighbor: T32 - Distance: 0.087\n",
      "Neighbor: T7 - Distance: 0.142\n",
      "Neighbor: T8 - Distance: 0.161\n",
      "Neighbor: T38 - Distance: 0.258\n",
      "Neighbor: T30 - Distance: 0.284\n",
      "Point: N5\n",
      "Neighbor: T25 - Distance: 0.061\n",
      "Neighbor: T9 - Distance: 0.082\n",
      "Neighbor: T19 - Distance: 0.101\n",
      "Neighbor: T20 - Distance: 0.102\n",
      "Neighbor: T39 - Distance: 0.116\n",
      "Point: N6\n",
      "Neighbor: T7 - Distance: 0.085\n",
      "Neighbor: T8 - Distance: 0.115\n",
      "Neighbor: T30 - Distance: 0.14\n",
      "Neighbor: T44 - Distance: 0.144\n",
      "Neighbor: T14 - Distance: 0.156\n"
     ]
    }
   ],
   "source": [
    "# Discover the k closest neighbors\n",
    "\n",
    "for i, point in enumerate(X_test):\n",
    "    print(f\"Point: N{i+1}\")\n",
    "    distances, kneighbors = knn.kneighbors([point], K_NEIGHBORS, True)\n",
    "    for d, n in zip(distances[0], kneighbors[0]):\n",
    "        print(f\"Neighbor: T{n+1} - Distance: {d.round(3)}\")"
   ]
  },
  {
   "cell_type": "code",
   "execution_count": 140,
   "metadata": {},
   "outputs": [
    {
     "data": {
      "image/png": "[encoded data removed]",
      "text/plain": [
       "<Figure size 640x480 with 1 Axes>"
      ]
     },
     "metadata": {},
     "output_type": "display_data"
    }
   ],
   "source": [
    "plt.figure()\n",
    "plt.scatter(X_train[Y_train == 1, 0], X_train[Y_train == 1, 1], marker='o', color='blue')\n",
    "plt.scatter(X_train[Y_train == 0, 0], X_train[Y_train == 0, 1], marker='o', color='red')\n",
    "plt.scatter(X_test[Y_test == 1, 0], X_test[Y_test == 1, 1], marker='x', color='blue')\n",
    "plt.scatter(X_test[Y_test == 0, 0], X_test[Y_test == 0, 1], marker='x', color='red')\n",
    "\n",
    "# Add index of each point\n",
    "for i, txt in enumerate(range(1, len(X_train)+ 1)):\n",
    "    plt.text(X_train[i, 0] if i < len(X_train) else X_test[i - len(X_train), 0] + 0.01,\n",
    "             X_train[i, 1] if i < len(X_train) else X_test[i - len(X_train), 1] + 0.01,\n",
    "             txt, fontsize=8)\n",
    "\n",
    "plt.show()\n"
   ]
  },
  {
   "cell_type": "markdown",
   "metadata": {},
   "source": [
    "### Treinamento e avaliação dos dados originais com 11 features"
   ]
  },
  {
   "cell_type": "code",
   "execution_count": 141,
   "metadata": {},
   "outputs": [
    {
     "name": "stdout",
     "output_type": "stream",
     "text": [
      "DADOS ORIGINAIS: 11 FEATURES\n",
      " Accuracy for k = 1: 0.5\n",
      " Accuracy for k = 3: 0.25\n",
      " Accuracy for k = 5: 0.25\n",
      " Accuracy for k = 7: 0.5\n"
     ]
    }
   ],
   "source": [
    "print(\"DADOS ORIGINAIS: 11 FEATURES\")\n",
    "\n",
    "# Load the data from file\n",
    "training_data = np.genfromtxt(TRAIN_11F_ORI, delimiter='\\t', skip_header=1)\n",
    "test_data = np.genfromtxt(TEST_11F_ORI, delimiter='\\t', skip_header=1)\n",
    "\n",
    "# Split the data into X and Y\n",
    "X_train = training_data[:, 1:-1]\n",
    "Y_train = training_data[:, -1]\n",
    "\n",
    "X_test = test_data[:, 1:-1]\n",
    "Y_test = test_data[:, -1]\n",
    "\n",
    "for k in range(1, 8, 2):    \n",
    "    # Create the KNN classifier\n",
    "    knn = KNeighborsClassifier(n_neighbors=k)\n",
    "\n",
    "    # Fit the classifier to the data\n",
    "    knn.fit(X_train, Y_train)\n",
    "\n",
    "    print(f\" Accuracy for k = {k}: {knn.score(X_test, Y_test)}\")\n"
   ]
  },
  {
   "cell_type": "code",
   "execution_count": 142,
   "metadata": {},
   "outputs": [
    {
     "name": "stdout",
     "output_type": "stream",
     "text": [
      "Point: N1\n",
      "Neighbor: T11 - Distance: 5.124\n",
      "Neighbor: T40 - Distance: 5.524\n",
      "Neighbor: T25 - Distance: 5.638\n",
      "Neighbor: T27 - Distance: 6.176\n",
      "Neighbor: T21 - Distance: 6.612\n",
      "Point: N2\n",
      "Neighbor: T31 - Distance: 10.896\n",
      "Neighbor: T24 - Distance: 13.057\n",
      "Neighbor: T42 - Distance: 13.816\n",
      "Neighbor: T12 - Distance: 14.436\n",
      "Neighbor: T36 - Distance: 16.561\n",
      "Point: N3\n",
      "Neighbor: T29 - Distance: 1.519\n",
      "Neighbor: T28 - Distance: 2.232\n",
      "Neighbor: T41 - Distance: 3.395\n",
      "Neighbor: T15 - Distance: 5.176\n",
      "Neighbor: T35 - Distance: 5.421\n",
      "Point: N4\n",
      "Neighbor: T11 - Distance: 4.701\n",
      "Neighbor: T16 - Distance: 4.738\n",
      "Neighbor: T9 - Distance: 5.183\n",
      "Neighbor: T20 - Distance: 5.574\n",
      "Neighbor: T25 - Distance: 5.732\n"
     ]
    }
   ],
   "source": [
    "# Discover the k closest neighbors\n",
    "\n",
    "for i, point in enumerate(X_test):\n",
    "    print(f\"Point: N{i+1}\")\n",
    "    distances, kneighbors = knn.kneighbors([point], K_NEIGHBORS, True)\n",
    "    for d, n in zip(distances[0], kneighbors[0]):\n",
    "        print(f\"Neighbor: T{n+1} - Distance: {d.round(3)}\")"
   ]
  },
  {
   "cell_type": "markdown",
   "metadata": {},
   "source": [
    "### Treinamento e avaliação dos dados normalizados com 11 features"
   ]
  },
  {
   "cell_type": "code",
   "execution_count": 143,
   "metadata": {},
   "outputs": [
    {
     "name": "stdout",
     "output_type": "stream",
     "text": [
      "DADOS NORMALIZADOS: 11 FEATURES\n",
      " Accuracy for k = 1: 0.8333333333333334\n",
      " Accuracy for k = 3: 0.5\n",
      " Accuracy for k = 5: 0.5\n",
      " Accuracy for k = 7: 0.5\n"
     ]
    }
   ],
   "source": [
    "print(\"DADOS NORMALIZADOS: 11 FEATURES\")\n",
    "\n",
    "# Load the data from file\n",
    "training_data = np.genfromtxt(TRAIN_11F_NORM, delimiter='\\t', skip_header=1)\n",
    "test_data = np.genfromtxt(TEST_11F_NORM, delimiter='\\t', skip_header=1)\n",
    "\n",
    "# Split the data into X and Y\n",
    "X_train = training_data[:, 1:-1]\n",
    "Y_train = training_data[:, -1]\n",
    "\n",
    "X_test = test_data[:, 1:-1]\n",
    "Y_test = test_data[:, -1]\n",
    "\n",
    "for k in range(1, 8, 2):    \n",
    "    # Create the KNN classifier\n",
    "    knn = KNeighborsClassifier(n_neighbors=k)\n",
    "\n",
    "    # Fit the classifier to the data\n",
    "    knn.fit(X_train, Y_train)\n",
    "\n",
    "    print(f\" Accuracy for k = {k}: {knn.score(X_test, Y_test)}\")\n"
   ]
  },
  {
   "cell_type": "code",
   "execution_count": 144,
   "metadata": {},
   "outputs": [
    {
     "name": "stdout",
     "output_type": "stream",
     "text": [
      "Point: N1\n",
      "Neighbor: T16 - Distance: 0.266\n",
      "Neighbor: T27 - Distance: 0.275\n",
      "Neighbor: T19 - Distance: 0.41\n",
      "Neighbor: T20 - Distance: 0.447\n",
      "Neighbor: T15 - Distance: 0.451\n",
      "Point: N2\n",
      "Neighbor: T31 - Distance: 0.298\n",
      "Neighbor: T5 - Distance: 0.522\n",
      "Neighbor: T22 - Distance: 0.55\n",
      "Neighbor: T19 - Distance: 0.569\n",
      "Neighbor: T34 - Distance: 0.574\n",
      "Point: N3\n",
      "Neighbor: T26 - Distance: 0.303\n",
      "Neighbor: T28 - Distance: 0.386\n",
      "Neighbor: T7 - Distance: 0.469\n",
      "Neighbor: T29 - Distance: 0.494\n",
      "Neighbor: T41 - Distance: 0.516\n",
      "Point: N4\n",
      "Neighbor: T30 - Distance: 1.924\n",
      "Neighbor: T1 - Distance: 2.045\n",
      "Neighbor: T8 - Distance: 2.047\n",
      "Neighbor: T7 - Distance: 2.462\n",
      "Neighbor: T6 - Distance: 2.498\n",
      "Point: N5\n",
      "Neighbor: T30 - Distance: 1.95\n",
      "Neighbor: T1 - Distance: 2.014\n",
      "Neighbor: T8 - Distance: 2.125\n",
      "Neighbor: T6 - Distance: 2.473\n",
      "Neighbor: T7 - Distance: 2.527\n",
      "Point: N6\n",
      "Neighbor: T30 - Distance: 1.908\n",
      "Neighbor: T1 - Distance: 2.018\n",
      "Neighbor: T8 - Distance: 2.044\n",
      "Neighbor: T7 - Distance: 2.46\n",
      "Neighbor: T6 - Distance: 2.476\n"
     ]
    }
   ],
   "source": [
    "# Discover the k closest neighbors\n",
    "\n",
    "for i, point in enumerate(X_test):\n",
    "    print(f\"Point: N{i+1}\")\n",
    "    distances, kneighbors = knn.kneighbors([point], K_NEIGHBORS, True)\n",
    "    for d, n in zip(distances[0], kneighbors[0]):\n",
    "        print(f\"Neighbor: T{n+1} - Distance: {d.round(3)}\")"
   ]
  }
 ],
 "metadata": {
  "kernelspec": {
   "display_name": "Python 3",
   "language": "python",
   "name": "python3"
  },
  "language_info": {
   "codemirror_mode": {
    "name": "ipython",
    "version": 3
   },
   "file_extension": ".py",
   "mimetype": "text/x-python",
   "name": "python",
   "nbconvert_exporter": "python",
   "pygments_lexer": "ipython3",
   "version": "3.11.4"
  }
 },
 "nbformat": 4,
 "nbformat_minor": 2
}
