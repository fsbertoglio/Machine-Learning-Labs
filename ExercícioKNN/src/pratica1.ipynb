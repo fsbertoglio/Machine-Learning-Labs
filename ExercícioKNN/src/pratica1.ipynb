{
 "cells": [
  {
   "cell_type": "markdown",
   "metadata": {},
   "source": []
  },
  {
   "cell_type": "code",
   "execution_count": 123,
   "metadata": {},
   "outputs": [],
   "source": [
    "# Dataset paths \n",
    "TRAIN_2F_NORM = \"../Dados_Normalizados_2Features/TrainingData_2F_Norm.txt\"\n",
    "TEST_2F_NORM = \"../Dados_Normalizados_2Features/TestingData_2F_Norm.txt\"\n",
    "\n",
    "TRAIN_11F_NORM = \"../Dados_Normalizados_11Features/TrainingData_11F_Norm.txt\"\n",
    "TEST_11F_NORM = \"../Dados_Normalizados_11Features/TestingData_11F_Norm.txt\"\n",
    "\n",
    "TRAIN_2F_ORI = \"../Dados_Originais_2Features/TrainingData_2F_Original.txt\"\n",
    "TEST_2F_ORI = \"../Dados_Originais_2Features/TestingData_2F_Original.txt\"\n",
    "\n",
    "TRAIN_11F_ORI = \"../Dados_Originais_11Features/TrainingData_11F_Original.txt\"\n",
    "TEST_11F_ORI = \"../Dados_Originais_11Features/TestingData_11F_Original.txt\""
   ]
  },
  {
   "cell_type": "code",
   "execution_count": 124,
   "metadata": {},
   "outputs": [],
   "source": [
    "import numpy as np\n",
    "from sklearn.neighbors import KNeighborsClassifier\n",
    "import matplotlib.pyplot as plt\n",
    "\n",
    "K_NEIGHBORS = 5"
   ]
  },
  {
   "cell_type": "code",
   "execution_count": 163,
   "metadata": {},
   "outputs": [
    {
     "name": "stdout",
     "output_type": "stream",
     "text": [
      "DADOS ORIGINAIS: 2 FEATURES\n",
      " Expected: [0 0 1 1]\n",
      " Predicted: [0 0 1 0]\n",
      " Accuracy for k = 1: 0.75\n",
      "\n",
      " Expected: [0 0 1 1]\n",
      " Predicted: [1 0 1 0]\n",
      " Accuracy for k = 3: 0.5\n",
      "\n",
      " Expected: [0 0 1 1]\n",
      " Predicted: [1 1 1 0]\n",
      " Accuracy for k = 5: 0.25\n",
      "\n",
      " Expected: [0 0 1 1]\n",
      " Predicted: [1 1 1 0]\n",
      " Accuracy for k = 7: 0.25\n",
      "\n"
     ]
    }
   ],
   "source": [
    "import pandas as pd\n",
    "\n",
    "print(\"DADOS ORIGINAIS: 2 FEATURES\")\n",
    "\n",
    "# Load the data from file\n",
    "training_data = pd.read_csv(TRAIN_2F_ORI, delimiter='\\t', header=0, names=['ID', 'total.sulfur.dioxide', 'citric.acid', 'class'])\n",
    "test_data = pd.read_csv(TEST_2F_ORI, delimiter='\\t', header=0, names=['ID', 'total.sulfur.dioxide', 'citric.acid', 'class'])\n",
    "\n",
    "# Split the data into X and Y\n",
    "X_train = training_data[['total.sulfur.dioxide', 'citric.acid']]\n",
    "Y_train = training_data['class']\n",
    "\n",
    "X_test = test_data[['total.sulfur.dioxide', 'citric.acid']]\n",
    "Y_test = test_data['class']\n",
    "\n",
    "for k in range(1, 8, 2):    \n",
    "    # Create the KNN classifier\n",
    "    knn = KNeighborsClassifier(n_neighbors=k)\n",
    "\n",
    "    # Fit the classifier to the data\n",
    "    knn.fit(X_train, Y_train)\n",
    "\n",
    "    print(f\" Expected: {Y_test.values}\")\n",
    "    print(f\" Predicted: {knn.predict(X_test)}\")\n",
    "    print(f\" Accuracy for k = {k}: {knn.score(X_test, Y_test)}\")\n",
    "    print(\"\")\n"
   ]
  },
  {
   "cell_type": "code",
   "execution_count": 184,
   "metadata": {},
   "outputs": [
    {
     "name": "stderr",
     "output_type": "stream",
     "text": [
      "/home/codespace/.local/lib/python3.10/site-packages/sklearn/base.py:465: UserWarning: X does not have valid feature names, but KNeighborsClassifier was fitted with feature names\n",
      "  warnings.warn(\n"
     ]
    },
    {
     "ename": "ValueError",
     "evalue": "setting an array element with a sequence. The requested array has an inhomogeneous shape after 2 dimensions. The detected shape was (1, 2) + inhomogeneous part.",
     "output_type": "error",
     "traceback": [
      "\u001b[0;31m---------------------------------------------------------------------------\u001b[0m",
      "\u001b[0;31mValueError\u001b[0m                                Traceback (most recent call last)",
      "\u001b[1;32m/workspaces/Machine-Learning-Labs/ExercícioKNN/src/pratica1.ipynb Cell 5\u001b[0m line \u001b[0;36m5\n\u001b[1;32m      <a href='vscode-notebook-cell://codespaces%2Bturbo-orbit-4r556vwpqpvh5qq4/workspaces/Machine-Learning-Labs/Exerc%C3%ADcioKNN/src/pratica1.ipynb#W5sdnNjb2RlLXJlbW90ZQ%3D%3D?line=0'>1</a>\u001b[0m \u001b[39mimport\u001b[39;00m \u001b[39mpandas\u001b[39;00m \u001b[39mas\u001b[39;00m \u001b[39mpd\u001b[39;00m\n\u001b[1;32m      <a href='vscode-notebook-cell://codespaces%2Bturbo-orbit-4r556vwpqpvh5qq4/workspaces/Machine-Learning-Labs/Exerc%C3%ADcioKNN/src/pratica1.ipynb#W5sdnNjb2RlLXJlbW90ZQ%3D%3D?line=2'>3</a>\u001b[0m \u001b[39mfor\u001b[39;00m row \u001b[39min\u001b[39;00m X_test\u001b[39m.\u001b[39miterrows():\n\u001b[1;32m      <a href='vscode-notebook-cell://codespaces%2Bturbo-orbit-4r556vwpqpvh5qq4/workspaces/Machine-Learning-Labs/Exerc%C3%ADcioKNN/src/pratica1.ipynb#W5sdnNjb2RlLXJlbW90ZQ%3D%3D?line=3'>4</a>\u001b[0m     \u001b[39m# Discover the k closest neighbors\u001b[39;00m\n\u001b[0;32m----> <a href='vscode-notebook-cell://codespaces%2Bturbo-orbit-4r556vwpqpvh5qq4/workspaces/Machine-Learning-Labs/Exerc%C3%ADcioKNN/src/pratica1.ipynb#W5sdnNjb2RlLXJlbW90ZQ%3D%3D?line=4'>5</a>\u001b[0m     distances, indices \u001b[39m=\u001b[39m knn\u001b[39m.\u001b[39;49mkneighbors([row], K_NEIGHBORS, \u001b[39mTrue\u001b[39;49;00m)\n\u001b[1;32m      <a href='vscode-notebook-cell://codespaces%2Bturbo-orbit-4r556vwpqpvh5qq4/workspaces/Machine-Learning-Labs/Exerc%C3%ADcioKNN/src/pratica1.ipynb#W5sdnNjb2RlLXJlbW90ZQ%3D%3D?line=5'>6</a>\u001b[0m     \u001b[39mprint\u001b[39m(\u001b[39mf\u001b[39m\u001b[39m\"\u001b[39m\u001b[39mDistances: \u001b[39m\u001b[39m{\u001b[39;00mdistances\u001b[39m}\u001b[39;00m\u001b[39m\"\u001b[39m)\n\u001b[1;32m      <a href='vscode-notebook-cell://codespaces%2Bturbo-orbit-4r556vwpqpvh5qq4/workspaces/Machine-Learning-Labs/Exerc%C3%ADcioKNN/src/pratica1.ipynb#W5sdnNjb2RlLXJlbW90ZQ%3D%3D?line=6'>7</a>\u001b[0m     \u001b[39mprint\u001b[39m(\u001b[39mf\u001b[39m\u001b[39m\"\u001b[39m\u001b[39mIndices: \u001b[39m\u001b[39m{\u001b[39;00mindices\u001b[39m+\u001b[39m\u001b[39m1\u001b[39m\u001b[39m}\u001b[39;00m\u001b[39m\"\u001b[39m)\n",
      "File \u001b[0;32m~/.local/lib/python3.10/site-packages/sklearn/neighbors/_base.py:804\u001b[0m, in \u001b[0;36mKNeighborsMixin.kneighbors\u001b[0;34m(self, X, n_neighbors, return_distance)\u001b[0m\n\u001b[1;32m    802\u001b[0m         X \u001b[39m=\u001b[39m _check_precomputed(X)\n\u001b[1;32m    803\u001b[0m     \u001b[39melse\u001b[39;00m:\n\u001b[0;32m--> 804\u001b[0m         X \u001b[39m=\u001b[39m \u001b[39mself\u001b[39;49m\u001b[39m.\u001b[39;49m_validate_data(X, accept_sparse\u001b[39m=\u001b[39;49m\u001b[39m\"\u001b[39;49m\u001b[39mcsr\u001b[39;49m\u001b[39m\"\u001b[39;49m, reset\u001b[39m=\u001b[39;49m\u001b[39mFalse\u001b[39;49;00m, order\u001b[39m=\u001b[39;49m\u001b[39m\"\u001b[39;49m\u001b[39mC\u001b[39;49m\u001b[39m\"\u001b[39;49m)\n\u001b[1;32m    806\u001b[0m n_samples_fit \u001b[39m=\u001b[39m \u001b[39mself\u001b[39m\u001b[39m.\u001b[39mn_samples_fit_\n\u001b[1;32m    807\u001b[0m \u001b[39mif\u001b[39;00m n_neighbors \u001b[39m>\u001b[39m n_samples_fit:\n",
      "File \u001b[0;32m~/.local/lib/python3.10/site-packages/sklearn/base.py:605\u001b[0m, in \u001b[0;36mBaseEstimator._validate_data\u001b[0;34m(self, X, y, reset, validate_separately, cast_to_ndarray, **check_params)\u001b[0m\n\u001b[1;32m    603\u001b[0m         out \u001b[39m=\u001b[39m X, y\n\u001b[1;32m    604\u001b[0m \u001b[39melif\u001b[39;00m \u001b[39mnot\u001b[39;00m no_val_X \u001b[39mand\u001b[39;00m no_val_y:\n\u001b[0;32m--> 605\u001b[0m     out \u001b[39m=\u001b[39m check_array(X, input_name\u001b[39m=\u001b[39;49m\u001b[39m\"\u001b[39;49m\u001b[39mX\u001b[39;49m\u001b[39m\"\u001b[39;49m, \u001b[39m*\u001b[39;49m\u001b[39m*\u001b[39;49mcheck_params)\n\u001b[1;32m    606\u001b[0m \u001b[39melif\u001b[39;00m no_val_X \u001b[39mand\u001b[39;00m \u001b[39mnot\u001b[39;00m no_val_y:\n\u001b[1;32m    607\u001b[0m     out \u001b[39m=\u001b[39m _check_y(y, \u001b[39m*\u001b[39m\u001b[39m*\u001b[39mcheck_params)\n",
      "File \u001b[0;32m~/.local/lib/python3.10/site-packages/sklearn/utils/validation.py:915\u001b[0m, in \u001b[0;36mcheck_array\u001b[0;34m(array, accept_sparse, accept_large_sparse, dtype, order, copy, force_all_finite, ensure_2d, allow_nd, ensure_min_samples, ensure_min_features, estimator, input_name)\u001b[0m\n\u001b[1;32m    913\u001b[0m         array \u001b[39m=\u001b[39m xp\u001b[39m.\u001b[39mastype(array, dtype, copy\u001b[39m=\u001b[39m\u001b[39mFalse\u001b[39;00m)\n\u001b[1;32m    914\u001b[0m     \u001b[39melse\u001b[39;00m:\n\u001b[0;32m--> 915\u001b[0m         array \u001b[39m=\u001b[39m _asarray_with_order(array, order\u001b[39m=\u001b[39;49morder, dtype\u001b[39m=\u001b[39;49mdtype, xp\u001b[39m=\u001b[39;49mxp)\n\u001b[1;32m    916\u001b[0m \u001b[39mexcept\u001b[39;00m ComplexWarning \u001b[39mas\u001b[39;00m complex_warning:\n\u001b[1;32m    917\u001b[0m     \u001b[39mraise\u001b[39;00m \u001b[39mValueError\u001b[39;00m(\n\u001b[1;32m    918\u001b[0m         \u001b[39m\"\u001b[39m\u001b[39mComplex data not supported\u001b[39m\u001b[39m\\n\u001b[39;00m\u001b[39m{}\u001b[39;00m\u001b[39m\\n\u001b[39;00m\u001b[39m\"\u001b[39m\u001b[39m.\u001b[39mformat(array)\n\u001b[1;32m    919\u001b[0m     ) \u001b[39mfrom\u001b[39;00m \u001b[39mcomplex_warning\u001b[39;00m\n",
      "File \u001b[0;32m~/.local/lib/python3.10/site-packages/sklearn/utils/_array_api.py:380\u001b[0m, in \u001b[0;36m_asarray_with_order\u001b[0;34m(array, dtype, order, copy, xp)\u001b[0m\n\u001b[1;32m    378\u001b[0m     array \u001b[39m=\u001b[39m numpy\u001b[39m.\u001b[39marray(array, order\u001b[39m=\u001b[39morder, dtype\u001b[39m=\u001b[39mdtype)\n\u001b[1;32m    379\u001b[0m \u001b[39melse\u001b[39;00m:\n\u001b[0;32m--> 380\u001b[0m     array \u001b[39m=\u001b[39m numpy\u001b[39m.\u001b[39;49masarray(array, order\u001b[39m=\u001b[39;49morder, dtype\u001b[39m=\u001b[39;49mdtype)\n\u001b[1;32m    382\u001b[0m \u001b[39m# At this point array is a NumPy ndarray. We convert it to an array\u001b[39;00m\n\u001b[1;32m    383\u001b[0m \u001b[39m# container that is consistent with the input's namespace.\u001b[39;00m\n\u001b[1;32m    384\u001b[0m \u001b[39mreturn\u001b[39;00m xp\u001b[39m.\u001b[39masarray(array)\n",
      "\u001b[0;31mValueError\u001b[0m: setting an array element with a sequence. The requested array has an inhomogeneous shape after 2 dimensions. The detected shape was (1, 2) + inhomogeneous part."
     ]
    }
   ],
   "source": [
    "import pandas as pd\n",
    "\n",
    "for row in X_test.iterrows():\n",
    "    # Discover the k closest neighbors\n",
    "    distances, indices = knn.kneighbors([row], K_NEIGHBORS, True)\n",
    "    print(f\"Distances: {distances}\")\n",
    "    print(f\"Indices: {indices+1}\")\n",
    "\n",
    "print(X_train)\n"
   ]
  },
  {
   "cell_type": "code",
   "execution_count": 127,
   "metadata": {},
   "outputs": [
    {
     "data": {
      "image/png": "[encoded data removed]",
      "text/plain": [
       "<Figure size 640x480 with 1 Axes>"
      ]
     },
     "metadata": {},
     "output_type": "display_data"
    }
   ],
   "source": [
    "plt.figure()\n",
    "plt.scatter(X_train[Y_train == 1, 0], X_train[Y_train == 1, 1], marker='o', color='blue')\n",
    "plt.scatter(X_train[Y_train == 0, 0], X_train[Y_train == 0, 1], marker='o', color='red')\n",
    "plt.scatter(X_test[Y_test == 1, 0], X_test[Y_test == 1, 1], marker='x', color='blue')\n",
    "plt.scatter(X_test[Y_test == 0, 0], X_test[Y_test == 0, 1], marker='x', color='red')\n",
    "\n",
    "# Add index of each point\n",
    "for i, txt in enumerate(range(1, len(X_train)+ 1)):\n",
    "    plt.text(X_train[i, 0] if i < len(X_train) else X_test[i - len(X_train), 0] + 0.01,\n",
    "             X_train[i, 1] if i < len(X_train) else X_test[i - len(X_train), 1] + 0.01,\n",
    "             txt, fontsize=8)\n",
    "\n",
    "plt.show()\n"
   ]
  },
  {
   "cell_type": "code",
   "execution_count": 128,
   "metadata": {},
   "outputs": [
    {
     "name": "stdout",
     "output_type": "stream",
     "text": [
      "DADOS NORMALIZADOS: 2 FEATURES\n",
      " Accuracy for k = 1: 0.5\n",
      " Accuracy for k = 3: 0.25\n",
      " Accuracy for k = 5: 0.75\n",
      " Accuracy for k = 7: 1.0\n"
     ]
    }
   ],
   "source": [
    "# Load the data from file\n",
    "training_data = np.genfromtxt(TRAIN_2F_NORM, delimiter='\\t', skip_header=1, usecols=(0,1,2,3))\n",
    "test_data = np.genfromtxt(TEST_2F_NORM, delimiter='\\t', skip_header=1, usecols=(0,1,2,3))\n",
    "\n",
    "# Split the data into X and Y\n",
    "X_train = training_data[:, 1:-1]\n",
    "Y_train = training_data[:, -1]\n",
    "\n",
    "X_test = test_data[:, 1:-1]\n",
    "Y_test = test_data[:, -1]    \n",
    "\n",
    "print(\"DADOS NORMALIZADOS: 2 FEATURES\")\n",
    "for k in range(1, 8, 2):    \n",
    "    # Create the KNN classifier\n",
    "    knn = KNeighborsClassifier(n_neighbors=k)\n",
    "\n",
    "    # Fit the classifier to the data\n",
    "    knn.fit(X_train, Y_train)\n",
    "\n",
    "    print(f\" Accuracy for k = {k}: {knn.score(X_test, Y_test)}\")\n"
   ]
  },
  {
   "cell_type": "code",
   "execution_count": 129,
   "metadata": {},
   "outputs": [
    {
     "name": "stdout",
     "output_type": "stream",
     "text": [
      "(array([[0.017     , 0.04244997, 0.11049434, 0.12151132, 0.13376472]]), array([[26, 10, 39, 14, 15]]))\n",
      "(array([[0.1018332 , 0.10423531, 0.15008331, 0.1677051 , 0.17356555]]), array([[30, 36, 11, 33, 21]]))\n",
      "(array([[0.014     , 0.02983287, 0.076844  , 0.09602604, 0.12129716]]), array([[28, 27, 40, 29, 34]]))\n",
      "(array([[0.087     , 0.14200352, 0.16131956, 0.25770138, 0.28436948]]), array([[31,  6,  7, 37, 29]]))\n"
     ]
    }
   ],
   "source": [
    "# Discover the k closest neighbors\n",
    "for i in X_test:\n",
    "    kneighbors = knn.kneighbors([i], K_NEIGHBORS, True)\n",
    "    print(kneighbors)"
   ]
  },
  {
   "cell_type": "code",
   "execution_count": 130,
   "metadata": {},
   "outputs": [
    {
     "data": {
      "image/png": "[encoded data removed]",
      "text/plain": [
       "<Figure size 640x480 with 1 Axes>"
      ]
     },
     "metadata": {},
     "output_type": "display_data"
    }
   ],
   "source": [
    "plt.figure()\n",
    "plt.scatter(X_train[Y_train == 1, 0], X_train[Y_train == 1, 1], marker='o', color='blue')\n",
    "plt.scatter(X_train[Y_train == 0, 0], X_train[Y_train == 0, 1], marker='o', color='red')\n",
    "plt.scatter(X_test[Y_test == 1, 0], X_test[Y_test == 1, 1], marker='x', color='blue')\n",
    "plt.scatter(X_test[Y_test == 0, 0], X_test[Y_test == 0, 1], marker='x', color='red')\n",
    "\n",
    "plt.show()"
   ]
  },
  {
   "cell_type": "code",
   "execution_count": 131,
   "metadata": {},
   "outputs": [
    {
     "name": "stdout",
     "output_type": "stream",
     "text": [
      "DADOS ORIGINAIS: 11 FEATURES\n",
      " Accuracy for k = 1: 0.5\n",
      " Accuracy for k = 3: 0.25\n",
      " Accuracy for k = 5: 0.25\n",
      " Accuracy for k = 7: 0.5\n"
     ]
    }
   ],
   "source": [
    "print(\"DADOS ORIGINAIS: 11 FEATURES\")\n",
    "\n",
    "# Load the data from file\n",
    "training_data = np.genfromtxt(TRAIN_11F_ORI, delimiter='\\t', skip_header=1)\n",
    "test_data = np.genfromtxt(TEST_11F_ORI, delimiter='\\t', skip_header=1)\n",
    "\n",
    "# Split the data into X and Y\n",
    "X_train = training_data[:, 1:-1]\n",
    "Y_train = training_data[:, -1]\n",
    "\n",
    "X_test = test_data[:, 1:-1]\n",
    "Y_test = test_data[:, -1]\n",
    "\n",
    "for k in range(1, 8, 2):    \n",
    "    # Create the KNN classifier\n",
    "    knn = KNeighborsClassifier(n_neighbors=k)\n",
    "\n",
    "    # Fit the classifier to the data\n",
    "    knn.fit(X_train, Y_train)\n",
    "\n",
    "    print(f\" Accuracy for k = {k}: {knn.score(X_test, Y_test)}\")\n"
   ]
  },
  {
   "cell_type": "code",
   "execution_count": 132,
   "metadata": {},
   "outputs": [
    {
     "name": "stdout",
     "output_type": "stream",
     "text": [
      "(array([[5.12438757, 5.52404359, 5.63804537, 6.17604167, 6.61224761]]), array([[10, 39, 24, 26, 20]]))\n",
      "(array([[10.89593964, 13.05666566, 13.81646631, 14.4355258 , 16.56097611]]), array([[30, 23, 41, 11, 35]]))\n",
      "(array([[1.51895568, 2.23226937, 3.3951593 , 5.17555498, 5.42146955]]), array([[28, 27, 40, 14, 34]]))\n",
      "(array([[4.70147523, 4.73784783, 5.18338779, 5.57357346, 5.73237054]]), array([[10, 15,  8, 19, 24]]))\n"
     ]
    }
   ],
   "source": [
    "# Discover the k closest neighbors\n",
    "for i in X_test:\n",
    "    kneighbors = knn.kneighbors([i], K_NEIGHBORS, True)\n",
    "    print(kneighbors)"
   ]
  },
  {
   "cell_type": "code",
   "execution_count": null,
   "metadata": {},
   "outputs": [],
   "source": []
  },
  {
   "cell_type": "code",
   "execution_count": 133,
   "metadata": {},
   "outputs": [
    {
     "name": "stdout",
     "output_type": "stream",
     "text": [
      "DADOS NORMALIZADOS: 11 FEATURES\n",
      " Accuracy for k = 1: 0.75\n",
      " Accuracy for k = 3: 0.75\n",
      " Accuracy for k = 5: 0.75\n",
      " Accuracy for k = 7: 0.75\n"
     ]
    }
   ],
   "source": [
    "print(\"DADOS NORMALIZADOS: 11 FEATURES\")\n",
    "\n",
    "# Load the data from file\n",
    "training_data = np.genfromtxt(TRAIN_11F_NORM, delimiter='\\t', skip_header=1)\n",
    "test_data = np.genfromtxt(TEST_11F_NORM, delimiter='\\t', skip_header=1)\n",
    "\n",
    "# Split the data into X and Y\n",
    "X_train = training_data[:, 1:-1]\n",
    "Y_train = training_data[:, -1]\n",
    "\n",
    "X_test = test_data[:, 1:-1]\n",
    "Y_test = test_data[:, -1]\n",
    "\n",
    "for k in range(1, 8, 2):    \n",
    "    # Create the KNN classifier\n",
    "    knn = KNeighborsClassifier(n_neighbors=k)\n",
    "\n",
    "    # Fit the classifier to the data\n",
    "    knn.fit(X_train, Y_train)\n",
    "\n",
    "    print(f\" Accuracy for k = {k}: {knn.score(X_test, Y_test)}\")\n"
   ]
  },
  {
   "cell_type": "code",
   "execution_count": 134,
   "metadata": {},
   "outputs": [
    {
     "name": "stdout",
     "output_type": "stream",
     "text": [
      "(array([[0.26608457, 0.27485451, 0.40997439, 0.44683106, 0.45129924]]), array([[15, 26, 18, 19, 14]]))\n",
      "(array([[0.29797987, 0.52213025, 0.55031446, 0.56891476, 0.57427607]]), array([[30,  4, 21, 18, 33]]))\n",
      "(array([[0.30297195, 0.38554896, 0.46861285, 0.49392914, 0.51597384]]), array([[25, 27,  6, 28, 40]]))\n",
      "(array([[1.92418424, 2.04533371, 2.04690547, 2.46220227, 2.49820516]]), array([[29,  0,  7,  6,  5]]))\n"
     ]
    }
   ],
   "source": [
    "# Discover the k closest neighbors\n",
    "for i in X_test:\n",
    "    kneighbors = knn.kneighbors([i], K_NEIGHBORS, True)\n",
    "    print(kneighbors)"
   ]
  }
 ],
 "metadata": {
  "kernelspec": {
   "display_name": "Python 3",
   "language": "python",
   "name": "python3"
  },
  "language_info": {
   "codemirror_mode": {
    "name": "ipython",
    "version": 3
   },
   "file_extension": ".py",
   "mimetype": "text/x-python",
   "name": "python",
   "nbconvert_exporter": "python",
   "pygments_lexer": "ipython3",
   "version": "3.10.8"
  }
 },
 "nbformat": 4,
 "nbformat_minor": 2
}
